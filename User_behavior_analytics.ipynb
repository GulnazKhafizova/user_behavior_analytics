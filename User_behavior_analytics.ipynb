{
 "cells": [
  {
   "cell_type": "markdown",
   "metadata": {},
   "source": [
    "### Гипотеза\n",
    "Нужно проверить:\n",
    "- Зависит ли вероятность оплаты от выбранного пользователем уровня сложности бесплатных тренировок?\n",
    "- Существует ли разница во времени между пользователями с разным уровнем сложности и их первой оплатой?"
   ]
  },
  {
   "cell_type": "markdown",
   "metadata": {},
   "source": [
    "### Проверка гипотезы\n",
    "Проверку будем производить на основе данных пользователей, которые зарегистрировались в 2017 году (с 1 января по 31 декабря 2017 года включительно)."
   ]
  },
  {
   "cell_type": "code",
   "execution_count": 1,
   "metadata": {},
   "outputs": [],
   "source": [
    "import pandas as pd #импортируем библиотеки\n",
    "import psycopg2\n",
    "import psycopg2.extras \n",
    "import numpy as np"
   ]
  },
  {
   "cell_type": "markdown",
   "metadata": {},
   "source": [
    "Получаем данные из базы данных"
   ]
  },
  {
   "cell_type": "code",
   "execution_count": 2,
   "metadata": {},
   "outputs": [],
   "source": [
    "def getEventsData():\n",
    "    query = '''SELECT e.* FROM case8.events e\n",
    "    WHERE e.user_id in\n",
    "    (SELECT DISTINCT(user_id) \n",
    "    FROM case8.events \n",
    "    WHERE event_type = 'registration' \n",
    "    AND start_time >= '2017-01-01'\n",
    "    AND start_time < '2018-01-01')\n",
    "    '''.format()\n",
    "    conn = psycopg2.connect(\"dbname='' user='' host='' password='' port=5432\")\n",
    "    dict_cur = conn.cursor(cursor_factory=psycopg2.extras.DictCursor)\n",
    "    dict_cur.execute(query)\n",
    "    rows = dict_cur.fetchall()\n",
    "    data = []\n",
    "    for row in rows:\n",
    "        data.append(dict(row))\n",
    "    return data\n",
    "\n",
    "def getPurchaseData():\n",
    "    query = '''SELECT p.* FROM case8.purchase p\n",
    "    WHERE p.user_id in\n",
    "    (SELECT DISTINCT(user_id) \n",
    "    FROM case8.events \n",
    "    WHERE event_type = 'registration' \n",
    "    AND start_time >= '2017-01-01'\n",
    "    AND start_time < '2018-01-01')\n",
    "    '''.format()\n",
    "    conn = psycopg2.connect(\"dbname='' user='' host='' password='' port=5432\")\n",
    "    dict_cur = conn.cursor(cursor_factory=psycopg2.extras.DictCursor)\n",
    "    dict_cur.execute(query)\n",
    "    rows = dict_cur.fetchall()\n",
    "    data = []\n",
    "    for row in rows:\n",
    "        data.append(dict(row))\n",
    "    return data\n",
    "\n",
    "events_df = pd.DataFrame(getEventsData())\n",
    "purchase_df = pd.DataFrame(getPurchaseData())"
   ]
  },
  {
   "cell_type": "markdown",
   "metadata": {},
   "source": [
    "Произведем обзор данных и преобразование данных"
   ]
  },
  {
   "cell_type": "code",
   "execution_count": 3,
   "metadata": {},
   "outputs": [],
   "source": [
    "events_df['start_time'] = pd.to_datetime(events_df['start_time'])\n",
    "purchase_df['start_time'] = pd.to_datetime(purchase_df['start_time'])"
   ]
  },
  {
   "cell_type": "code",
   "execution_count": 4,
   "metadata": {},
   "outputs": [],
   "source": [
    "purchase_df['event_type'] = 'purchase' #объединим датафрейм с событиями вместе с датафреймом по оплатам"
   ]
  },
  {
   "cell_type": "code",
   "execution_count": 5,
   "metadata": {},
   "outputs": [],
   "source": [
    "events_df = events_df.rename(columns={'id':'event_id'}) #переименуем колонки\n",
    "purchase_df = purchase_df.rename(columns={'id':'purchase_id'})"
   ]
  },
  {
   "cell_type": "code",
   "execution_count": 6,
   "metadata": {},
   "outputs": [],
   "source": [
    "total_events_df = pd.concat([events_df,purchase_df],sort=False) #запишем объединенный датафрейм в переменную total_events_df"
   ]
  },
  {
   "cell_type": "markdown",
   "metadata": {},
   "source": [
    "Выделим группы пользователей по уровню сложности."
   ]
  },
  {
   "cell_type": "code",
   "execution_count": 7,
   "metadata": {},
   "outputs": [
    {
     "data": {
      "text/plain": [
       "array([None, 'medium', 'hard', 'easy', nan], dtype=object)"
      ]
     },
     "execution_count": 7,
     "metadata": {},
     "output_type": "execute_result"
    }
   ],
   "source": [
    "total_events_df['selected_level'].unique() #какие уникальные уровни сложности есть в датафрейме"
   ]
  },
  {
   "cell_type": "code",
   "execution_count": 8,
   "metadata": {},
   "outputs": [],
   "source": [
    "users_with_easy_level = total_events_df[total_events_df['selected_level'] == 'easy']['user_id'].unique()"
   ]
  },
  {
   "cell_type": "code",
   "execution_count": 9,
   "metadata": {},
   "outputs": [],
   "source": [
    "users_with_medium_level = total_events_df[total_events_df['selected_level'] == 'medium']['user_id'].unique()"
   ]
  },
  {
   "cell_type": "code",
   "execution_count": 10,
   "metadata": {},
   "outputs": [],
   "source": [
    "users_with_hard_level = total_events_df[total_events_df['selected_level'] == 'hard']['user_id'].unique()"
   ]
  },
  {
   "cell_type": "markdown",
   "metadata": {},
   "source": [
    "Рассчитаем для каждой группы процент оплат"
   ]
  },
  {
   "cell_type": "code",
   "execution_count": 11,
   "metadata": {},
   "outputs": [
    {
     "name": "stdout",
     "output_type": "stream",
     "text": [
      "Процент оплативших пользователей, выбравших уровень сложности easy: 7.72%\n",
      "Процент оплативших пользователей, выбравших уровень сложности medium: 20.86%\n",
      "Процент оплативших пользователей, выбравших уровень сложности hard: 35.39%\n"
     ]
    }
   ],
   "source": [
    "set_users_with_easy_level = set(users_with_easy_level) #уникальные пользователи, выбравшие уровень easy\n",
    "set_users_with_medium_level = set(users_with_medium_level) #уникальные пользователи, выбравшие уровень medium\n",
    "set_users_with_hard_level = set(users_with_hard_level) #уникальные пользователи, выбравшие уровень hard\n",
    "\n",
    "purchase_df_easy = purchase_df[purchase_df['user_id'].isin(set_users_with_easy_level)] #процент оплат для уровня easy\n",
    "percent_of_purchase_easy = purchase_df_easy['user_id'].nunique()/len(set_users_with_easy_level)\n",
    "print ('Процент оплативших пользователей, выбравших уровень сложности easy: {:.2%}'.format(percent_of_purchase_easy))\n",
    "\n",
    "purchase_df_medium = purchase_df[purchase_df['user_id'].isin(set_users_with_medium_level)] #процент оплат для уровня medium\n",
    "percent_of_purchase_medium = purchase_df_medium['user_id'].nunique()/len(set_users_with_medium_level)\n",
    "print ('Процент оплативших пользователей, выбравших уровень сложности medium: {:.2%}'.format(percent_of_purchase_medium))\n",
    "\n",
    "purchase_df_hard = purchase_df[purchase_df['user_id'].isin(set_users_with_hard_level)] #процент оплат для уровня hard\n",
    "percent_of_purchase_hard = purchase_df_hard['user_id'].nunique()/len(set_users_with_hard_level)\n",
    "print ('Процент оплативших пользователей, выбравших уровень сложности hard: {:.2%}'.format(percent_of_purchase_hard))"
   ]
  },
  {
   "cell_type": "markdown",
   "metadata": {},
   "source": [
    "Для каждой группы подсчитаем среднее время между событиями оплаты и событием выбора уровня сложности"
   ]
  },
  {
   "cell_type": "code",
   "execution_count": 12,
   "metadata": {},
   "outputs": [
    {
     "name": "stdout",
     "output_type": "stream",
     "text": [
      "Среднее время между выбором уровня сложности и оплатой для пользователей, выбравших уровень сложности easy: 3 days 14:58:52.941798\n",
      "Показатели:\n",
      "count                       189\n",
      "mean     3 days 14:58:52.941798\n",
      "std      2 days 07:06:35.644097\n",
      "min             0 days 00:49:20\n",
      "25%             1 days 17:18:56\n",
      "50%             3 days 06:03:50\n",
      "75%             5 days 06:58:18\n",
      "max            10 days 18:35:09\n",
      "Name: timedelta, dtype: object\n",
      "Среднее время между выбором уровня сложности и оплатой для пользователей, выбравших уровень сложности medium: 3 days 23:14:13.165118\n",
      "Показатели:\n",
      "count                       969\n",
      "mean     3 days 23:14:13.165118\n",
      "std      2 days 06:18:57.618467\n",
      "min             0 days 04:18:12\n",
      "25%             2 days 01:20:07\n",
      "50%             3 days 19:53:19\n",
      "75%             5 days 16:07:19\n",
      "max            10 days 13:51:01\n",
      "Name: timedelta, dtype: object\n",
      "Среднее время между выбором уровня сложности и оплатой для пользователей, выбравших уровень сложности hard: 3 days 07:20:41.420814\n",
      "Показатели:\n",
      "count                       442\n",
      "mean     3 days 07:20:41.420814\n",
      "std      1 days 21:43:52.953292\n",
      "min             0 days 03:26:45\n",
      "25%      1 days 14:57:23.500000\n",
      "50%      3 days 03:13:57.500000\n",
      "75%      4 days 19:16:00.250000\n",
      "max             8 days 01:18:13\n",
      "Name: timedelta, dtype: object\n"
     ]
    }
   ],
   "source": [
    "#Группа easy:\n",
    "level_choice_df_easy = total_events_df[(total_events_df['event_type'] == 'level_choice') \n",
    "                                       & (total_events_df['selected_level'] == 'easy')]\n",
    "level_choice_df_easy = level_choice_df_easy[['user_id','start_time']].rename(columns={'start_time':'level_choice_time'})\n",
    "purchase_df_2_easy = purchase_df_easy[['user_id','start_time']].rename(columns={'start_time':'purchase_time'})\n",
    "merged_df_easy = purchase_df_2_easy.merge(level_choice_df_easy,on='user_id',how='inner')\n",
    "merged_df_easy['timedelta'] = merged_df_easy['purchase_time'] - merged_df_easy['level_choice_time']\n",
    "mean_time1 = merged_df_easy['timedelta'].mean()\n",
    "print('Среднее время между выбором уровня сложности и оплатой для пользователей, выбравших уровень сложности easy: {0}'.format(mean_time1))\n",
    "print('Показатели:')\n",
    "print(merged_df_easy['timedelta'].describe())\n",
    "\n",
    "#Группа medium:\n",
    "level_choice_df_medium = total_events_df[(total_events_df['event_type'] == 'level_choice') \n",
    "                                       & (total_events_df['selected_level'] == 'medium')]\n",
    "level_choice_df_medium = level_choice_df_medium[['user_id','start_time']].rename(columns={'start_time':'level_choice_time'})\n",
    "purchase_df_2_medium = purchase_df_medium[['user_id','start_time']].rename(columns={'start_time':'purchase_time'})\n",
    "merged_df_medium = purchase_df_2_medium.merge(level_choice_df_medium,on='user_id',how='inner')\n",
    "merged_df_medium['timedelta'] = merged_df_medium['purchase_time'] - merged_df_medium['level_choice_time']\n",
    "mean_time2 = merged_df_medium['timedelta'].mean()\n",
    "print('Среднее время между выбором уровня сложности и оплатой для пользователей, выбравших уровень сложности medium: {0}'.format(mean_time2))\n",
    "print('Показатели:')\n",
    "print(merged_df_medium['timedelta'].describe())\n",
    "\n",
    "#Группа hard:\n",
    "level_choice_df_hard = total_events_df[(total_events_df['event_type'] == 'level_choice') \n",
    "                                       & (total_events_df['selected_level'] == 'hard')]\n",
    "level_choice_df_hard = level_choice_df_hard[['user_id','start_time']].rename(columns={'start_time':'level_choice_time'})\n",
    "purchase_df_2_hard = purchase_df_hard[['user_id','start_time']].rename(columns={'start_time':'purchase_time'})\n",
    "merged_df_hard = purchase_df_2_hard.merge(level_choice_df_hard,on='user_id',how='inner')\n",
    "merged_df_hard['timedelta'] = merged_df_hard['purchase_time'] - merged_df_hard['level_choice_time']\n",
    "mean_time3 = merged_df_hard['timedelta'].mean()\n",
    "print('Среднее время между выбором уровня сложности и оплатой для пользователей, выбравших уровень сложности hard: {0}'.format(mean_time3))\n",
    "print('Показатели:')\n",
    "print(merged_df_hard['timedelta'].describe())"
   ]
  },
  {
   "cell_type": "markdown",
   "metadata": {},
   "source": [
    "### Выводы\n",
    "\n",
    "*Зависит ли вероятность оплаты от выбранного пользователем уровня сложности бесплатных тренировок?*\n",
    "\n",
    "**Процент оплативших пользователей**, выбравших уровень сложности **easy: 7.72%**\n",
    "**Процент оплативших пользователей**, выбравших уровень сложности **medium: 20.86%**\n",
    "**Процент оплативших пользователей**, выбравших уровень сложности **hard: 35.39%**\n",
    "\n",
    "Таким образом, существует зависимость между выбранным уровнем сложности бесплатных тренировок и процентом пользователей, которые оплатили тренировки. Пользователи, выбирающие более сложный уровень тренировки, чаще покупают платные тренировки.\n",
    "\n",
    "*Существует ли разница во времени между пользователями с разным уровнем сложности и их первой оплатой?*\n",
    "\n",
    "Наибольшее среднее время между выбором уровня сложности и первой оплатой принадлежит пользователям, которые выбрали уровень сложности **medium**. Для них среднее время **составляет 3 дня 23 часа**.\n",
    "Для пользователей, выбравших уровень сложности **easy**, среднее время **составляет 3 дня 14 часов**.\n",
    "Для пользователей, выбравших уровень сложности **hard**, среднее время **составляет 3 дня 7 часов**. \n",
    "Таким образом, пользователи, выбравшие уровень сложности hard тратят меньше всего времени на совершение оплаты."
   ]
  }
 ],
 "metadata": {
  "kernelspec": {
   "display_name": "Python 3",
   "language": "python",
   "name": "python3"
  },
  "language_info": {
   "codemirror_mode": {
    "name": "ipython",
    "version": 3
   },
   "file_extension": ".py",
   "mimetype": "text/x-python",
   "name": "python",
   "nbconvert_exporter": "python",
   "pygments_lexer": "ipython3",
   "version": "3.7.6"
  }
 },
 "nbformat": 4,
 "nbformat_minor": 2
}
